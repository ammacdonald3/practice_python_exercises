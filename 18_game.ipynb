{
 "cells": [
  {
   "cell_type": "code",
   "execution_count": 1,
   "metadata": {},
   "outputs": [],
   "source": [
    "import random"
   ]
  },
  {
   "cell_type": "code",
   "execution_count": 3,
   "metadata": {},
   "outputs": [],
   "source": [
    "secretnum = random.randint(1000,9999)"
   ]
  },
  {
   "cell_type": "code",
   "execution_count": 4,
   "metadata": {},
   "outputs": [
    {
     "data": {
      "text/plain": [
       "2489"
      ]
     },
     "execution_count": 4,
     "metadata": {},
     "output_type": "execute_result"
    }
   ],
   "source": [
    "secretnum"
   ]
  },
  {
   "cell_type": "code",
   "execution_count": 10,
   "metadata": {},
   "outputs": [
    {
     "name": "stdout",
     "output_type": "stream",
     "text": [
      "I'm thinking of a random 4-digit number. For every guess, I will tell you how many digits are correct until you guess correct.\n"
     ]
    }
   ],
   "source": [
    "print(\"I'm thinking of a random 4-digit number. For every guess, I will tell you how many digits are correct until you guess correct.\")"
   ]
  },
  {
   "cell_type": "code",
   "execution_count": 13,
   "metadata": {},
   "outputs": [
    {
     "name": "stdin",
     "output_type": "stream",
     "text": [
      "Guess a 4-digit number 4489\n"
     ]
    },
    {
     "name": "stdout",
     "output_type": "stream",
     "text": [
      "You guessed 3 digits correct. You printed 1 digits incorrect.\n"
     ]
    },
    {
     "name": "stdin",
     "output_type": "stream",
     "text": [
      "Guess a 4-digit number 2489\n"
     ]
    },
    {
     "name": "stdout",
     "output_type": "stream",
     "text": [
      "You guessed correct!\n"
     ]
    }
   ],
   "source": [
    "userguess = 0\n",
    "while userguess != secretnum:\n",
    "    correct = 0\n",
    "    incorrect = 4\n",
    "    userguess = int(input(\"Guess a 4-digit number\"))\n",
    "    listuserguess = [int(x) for x in str(userguess)]\n",
    "    listsecretnum = [int(x) for x in str(secretnum)]\n",
    "    if userguess == secretnum:\n",
    "        print(\"You guessed correct!\")\n",
    "    else:\n",
    "        counter = 0\n",
    "        for digit in listuserguess:\n",
    "            if digit == listsecretnum[counter]:\n",
    "                correct += 1\n",
    "                incorrect -= 1\n",
    "            counter += 1\n",
    "        print(f\"You guessed {correct} digits correct. You printed {incorrect} digits incorrect.\")\n",
    "        \n",
    "            \n",
    "    "
   ]
  },
  {
   "cell_type": "code",
   "execution_count": null,
   "metadata": {},
   "outputs": [],
   "source": []
  }
 ],
 "metadata": {
  "kernelspec": {
   "display_name": "Python 3",
   "language": "python",
   "name": "python3"
  },
  "language_info": {
   "codemirror_mode": {
    "name": "ipython",
    "version": 3
   },
   "file_extension": ".py",
   "mimetype": "text/x-python",
   "name": "python",
   "nbconvert_exporter": "python",
   "pygments_lexer": "ipython3",
   "version": "3.7.3"
  }
 },
 "nbformat": 4,
 "nbformat_minor": 4
}
