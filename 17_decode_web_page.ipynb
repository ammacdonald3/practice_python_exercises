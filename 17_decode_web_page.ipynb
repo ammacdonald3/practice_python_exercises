{
 "cells": [
  {
   "cell_type": "markdown",
   "metadata": {},
   "source": [
    "# Decode a Web Page"
   ]
  },
  {
   "cell_type": "markdown",
   "metadata": {},
   "source": [
    "Use <em>BeautifulSoup</em> and <em>requests</em> to print out a list of all article titles on the NYT homepage."
   ]
  },
  {
   "cell_type": "code",
   "execution_count": 5,
   "metadata": {},
   "outputs": [],
   "source": [
    "# Import packages\n",
    "import requests\n",
    "from bs4 import BeautifulSoup\n",
    "import pandas as pd"
   ]
  },
  {
   "cell_type": "code",
   "execution_count": 9,
   "metadata": {},
   "outputs": [],
   "source": [
    "nyt = requests.get('https://www.nytimes.com/')"
   ]
  },
  {
   "cell_type": "code",
   "execution_count": 16,
   "metadata": {},
   "outputs": [
    {
     "name": "stdout",
     "output_type": "stream",
     "text": [
      "<title data-rh=\"true\">The New York Times - Breaking News, World News &amp; Multimedia</title>\n"
     ]
    }
   ],
   "source": [
    "soup = BeautifulSoup(nyt.text)\n",
    "title = soup.title\n",
    "print(title)"
   ]
  },
  {
   "cell_type": "code",
   "execution_count": 32,
   "metadata": {},
   "outputs": [
    {
     "name": "stdout",
     "output_type": "stream",
     "text": [
      "[<span aria-label=\"Skip to Site Index\"><a href=\"/\"><svg class=\"css-tmjxlh\" viewbox=\"0 0 44 57\"><defs></defs><g fill=\"none\" fill-rule=\"evenodd\" stroke=\"none\" stroke-width=\"1\"><g fill=\"#000\"><path d=\"M43.6284633,34.8996508 C41.83393,39.6379642 38.53153,43.2989842 33.7932167,45.2371375 L33.7932167,34.8996508 L39.46463,29.8027175 L33.7932167,24.7777375 L33.7932167,17.6709842 C38.9621033,17.3120775 42.5514567,13.5074375 42.5514567,8.84136417 C42.5514567,2.73966417 36.7369967,0.5859375 33.4345967,0.5859375 C32.71707,0.5859375 31.9270167,0.5859375 30.7789167,0.872890833 L30.7789167,1.16013083 C31.20949,1.16013083 31.8550633,1.08846417 32.0709233,1.08846417 C34.36827,1.08846417 36.0911367,2.16518417 36.0911367,4.2469575 C36.0911367,5.82620417 34.7988433,7.40545083 32.5017833,7.40545083 C26.83037,7.40545083 20.15419,2.81133083 12.9038167,2.81133083 C6.44292333,2.81133083 1.99242333,7.6207375 1.99242333,12.5023842 C1.99242333,17.3120775 4.79201,18.8913242 7.73521667,19.9680442 L7.80717,19.6808042 C6.87378333,19.1066108 6.22763667,18.1018442 6.22763667,16.5223108 C6.22763667,14.3688708 8.23774333,12.5743375 10.7503767,12.5743375 C16.8520767,12.5743375 26.68675,17.6709842 32.7887367,17.6709842 L33.36293,17.6709842 L33.36293,24.8496908 L27.6918033,29.8027175 L33.36293,34.8996508 L33.36293,45.3804708 C30.9942033,46.2416175 28.5532367,46.6010975 26.0406033,46.6010975 C16.5648367,46.6010975 10.53509,40.8577308 10.53509,31.3102975 C10.53509,29.0135242 10.8220433,26.7878442 11.46819,24.6341175 L16.20593,22.5526308 L16.20593,43.6576042 L25.8253167,39.4226775 L25.8253167,17.8146042 L11.6834767,24.1315908 C13.1191033,19.9680442 16.06231,16.9531708 19.5799967,15.2303042 L19.50833,15.0150175 C10.0322767,17.0967908 0.84375,24.2754975 0.84375,35.0432708 C0.84375,47.4622442 11.32457,56.0768642 23.5285433,56.0768642 C36.4497567,56.0768642 43.7720833,47.4622442 43.84375,34.8996508 L43.6284633,34.8996508 Z\"></path></g></g></svg></a></span>, <span>Trump Family Considers Selling Hotel in Washington</span>, <span>Federal Budget Deficit Swelled to Nearly $1 Trillion in 2019</span>, <span>California Fire Updates: Governor Declares Emergency</span>, <span>At Elijah Cummings’s Funeral: Obama, the Clintons, Pelosi and Warren</span>, <span>Are Suburbs Across the U.S. Turning Democratic?</span>, <span>‘Let the Viejos Play’: In the World Series, Age Is an Asset</span>, <span itemprop=\"copyrightYear\">2019</span>, <span itemid=\"https://www.nytimes.com\" itemprop=\"publisher copyrightHolder provider sourceOrganization\" itemscope=\"\" itemtype=\"http://schema.org/NewsMediaOrganization\"> <meta content=\"https://www.nytco.com/diversity-and-inclusion-at-the-new-york-times/\" itemprop=\"diversityPolicy\"/><meta content=\"https://www.nytco.com/who-we-are/culture/standards-and-ethics/\" itemprop=\"ethicsPolicy\"/><meta content=\"1851-09-18\" itemprop=\"foundingDate\"/><span itemprop=\"logo\" itemscope=\"\" itemtype=\"https://schema.org/ImageObject\"><meta content=\"https://static01.nyt.com/images/misc/NYT_logo_rss_250x40.png\" itemprop=\"url\"/></span><meta content=\"https://www.nytimes.com/\" itemprop=\"url\"/><meta content=\"https://www.nytimes.com/interactive/2018/09/28/admin/the-new-york-times-masthead.html\" itemprop=\"masthead\"/><meta content=\"The New York Times\" itemprop=\"name\"/><span>The New York Times Company</span></span>, <span itemprop=\"logo\" itemscope=\"\" itemtype=\"https://schema.org/ImageObject\"><meta content=\"https://static01.nyt.com/images/misc/NYT_logo_rss_250x40.png\" itemprop=\"url\"/></span>, <span>The New York Times Company</span>]\n"
     ]
    }
   ],
   "source": [
    "articles = soup.find_all('span', class_='', itemid_='')\n",
    "print(articles)"
   ]
  },
  {
   "cell_type": "code",
   "execution_count": 24,
   "metadata": {},
   "outputs": [
    {
     "name": "stdout",
     "output_type": "stream",
     "text": [
      "#after-dfp-ad-top\n",
      "#site-content\n",
      "#site-index\n",
      "/\n",
      "/\n",
      "https://www.nytimes.com/es/\n",
      "https://cn.nytimes.com\n",
      "https://myaccount.nytimes.com/auth/login?response_type=cookie&client_id=vi\n",
      "https://myaccount.nytimes.com/auth/login?response_type=cookie&client_id=vi\n",
      "https://www.nytimes.com/section/todayspaper\n",
      "/\n",
      "/\n",
      "https://www.nytimes.com/section/world\n",
      "https://www.nytimes.com/section/us\n",
      "https://www.nytimes.com/section/politics\n",
      "https://www.nytimes.com/section/nyregion\n",
      "https://www.nytimes.com/section/business\n",
      "https://www.nytimes.com/section/opinion\n",
      "https://www.nytimes.com/section/technology\n",
      "https://www.nytimes.com/section/science\n",
      "https://www.nytimes.com/section/health\n",
      "https://www.nytimes.com/section/sports\n",
      "https://www.nytimes.com/section/arts\n",
      "https://www.nytimes.com/section/books\n",
      "https://www.nytimes.com/section/style\n",
      "https://www.nytimes.com/section/food\n",
      "https://www.nytimes.com/section/travel\n",
      "https://www.nytimes.com/section/magazine\n",
      "https://www.nytimes.com/section/t-magazine\n",
      "https://www.nytimes.com/section/realestate\n",
      "https://www.nytimes.com/video\n",
      "https://www.nytimes.com/section/world\n",
      "https://www.nytimes.com/section/us\n",
      "https://www.nytimes.com/section/politics\n",
      "https://www.nytimes.com/section/nyregion\n",
      "https://www.nytimes.com/section/business\n",
      "https://www.nytimes.com/section/opinion\n",
      "https://www.nytimes.com/section/technology\n",
      "https://www.nytimes.com/section/science\n",
      "https://www.nytimes.com/section/health\n",
      "https://www.nytimes.com/section/sports\n",
      "https://www.nytimes.com/section/arts\n",
      "https://www.nytimes.com/section/books\n",
      "https://www.nytimes.com/section/style\n",
      "https://www.nytimes.com/section/food\n",
      "https://www.nytimes.com/section/travel\n",
      "https://www.nytimes.com/section/magazine\n",
      "https://www.nytimes.com/section/t-magazine\n",
      "https://www.nytimes.com/section/realestate\n",
      "https://www.nytimes.com/video\n",
      "/2019/10/25/podcasts/the-daily/bernie-sanders-health.html\n",
      "/2019/10/25/podcasts/the-daily/bernie-sanders-health.html\n",
      "/2019/10/25/magazine/afghanistan-war-baghlan-austin-miller.html\n",
      "/2019/10/25/magazine/afghanistan-war-baghlan-austin-miller.html\n",
      "/2019/10/18/books/review/podcast-thomas-chatterton-williams-self-portrait-black-and-white-stephen-kinzer-poisoner-in-chief.html\n",
      "/2019/10/18/books/review/podcast-thomas-chatterton-williams-self-portrait-black-and-white-stephen-kinzer-poisoner-in-chief.html\n",
      "/2019/10/25/us/politics/trump-hotel-washington.html\n",
      "/2019/10/25/us/politics/trump-hotel-washington.html#commentsContainer\n",
      "/2019/10/24/us/politics/john-durham-criminal-investigation.html\n",
      "/2019/10/24/us/politics/john-durham-criminal-investigation.html\n",
      "/2019/10/24/us/politics/john-durham-criminal-investigation.html#commentsContainer\n",
      "/2019/10/25/us/politics/trump-benedict-college-hbcu.html\n",
      "/2019/10/25/us/politics/federal-budget-deficit-swelled-to-nearly-1-trillion-in-2019.html\n",
      "/2019/10/25/us/politics/federal-budget-deficit-swelled-to-nearly-1-trillion-in-2019.html\n",
      "/2019/10/25/us/santa-clarita-fire-sonoma-california.html\n",
      "/2019/10/24/climate/california-wildfires-climate-change.html\n",
      "/2019/10/24/climate/california-wildfires-climate-change.html#commentsContainer\n",
      "/2019/10/25/us/elijah-cummings-funeral.html\n",
      "/2019/10/25/us/elijah-cummings-funeral.html#commentsContainer\n",
      "/2019/10/25/us/politics/obama-cummings-trump.html\n",
      "/2019/10/25/us/elijah-cummings-funeral.html\n",
      "/2019/10/25/us/democrats-republicans-suburbs.html\n",
      "/2019/10/25/us/democrats-republicans-suburbs.html#commentsContainer\n",
      "/2019/10/25/us/politics/alyssa-milano-activism.html\n",
      "/2019/10/25/us/politics/alyssa-milano-activism.html\n",
      "/2019/10/25/sports/nationals-astros-world-series.html\n",
      "/2019/10/25/sports/nationals-astros-world-series.html\n",
      "/2019/10/25/sports/nationals-astros-world-series.html\n",
      "/2019/10/24/us/politics/trump-world-series-nationals.html\n",
      "https://www.nytimes.com/section/opinion?pagetype=Homepage&action=click&module=Opinion\n",
      "/2019/10/25/opinion/mark-zuckerberg-facebook-news.html\n",
      "/2019/10/25/opinion/mark-zuckerberg-facebook-news.html#commentsContainer\n",
      "/2019/10/25/opinion/mark-zuckerberg-facebook-news.html\n",
      "/2019/10/25/opinion/trump-2020-democrats.html\n",
      "/2019/10/25/opinion/trump-2020-democrats.html#commentsContainer\n",
      "/2019/10/24/opinion/trump-economy.html\n",
      "/2019/10/24/opinion/tipping.html\n",
      "/2019/10/25/opinion/trump-graham-lynching.html\n",
      "/2019/10/25/opinion/uconn-students-arrested.html\n",
      "/2019/10/24/opinion/chuck-schumer-electric-car.html\n",
      "/2019/10/25/opinion/dolemite-is-my-name.html\n",
      "/2019/10/24/opinion/putin-ukraine-syria.html\n",
      "/2019/10/24/opinion/ms-monopoly-rules.html\n",
      "/2019/10/24/opinion/sunday/karachi-pollution-trash.html\n",
      "#after-dfp-ad-mid1\n",
      "http://nyt.qualtrics.com/jfe/form/SV_eFJmKj9v0krSE0l\n",
      "/\n",
      "https://www.nytimes.com\n",
      "https://www.nytimes.com/section/world\n",
      "https://www.nytimes.com/section/us\n",
      "https://www.nytimes.com/section/politics\n",
      "https://www.nytimes.com/news-event/2020-election\n",
      "https://www.nytimes.com/section/nyregion\n",
      "https://www.nytimes.com/section/business\n",
      "https://www.nytimes.com/section/technology\n",
      "https://www.nytimes.com/section/science\n",
      "https://www.nytimes.com/section/climate\n",
      "https://www.nytimes.com/section/sports\n",
      "https://www.nytimes.com/section/obituaries\n",
      "https://www.nytimes.com/section/upshot\n",
      "https://www.nytimes.com/es/\n",
      "https://cn.nytimes.com/\n",
      "https://www.nytimes.com/section/todayspaper\n",
      "https://www.nytimes.com/section/corrections\n",
      "https://www.nytimes.com/section/opinion\n",
      "https://www.nytimes.com/section/opinion/columnists\n",
      "https://www.nytimes.com/section/opinion/editorials\n",
      "https://www.nytimes.com/section/opinion/contributors\n",
      "https://www.nytimes.com/section/opinion/letters\n",
      "https://www.nytimes.com/section/opinion/sunday\n",
      "https://www.nytimes.com/video/opinion\n",
      "https://www.nytimes.com/section/arts\n",
      "https://www.nytimes.com/section/arts/design\n",
      "https://www.nytimes.com/section/books\n",
      "https://www.nytimes.com/section/arts/dance\n",
      "https://www.nytimes.com/section/movies\n",
      "https://www.nytimes.com/section/arts/music\n",
      "https://www.nytimes.com/spotlight/pop-culture\n",
      "https://www.nytimes.com/section/arts/television\n",
      "https://www.nytimes.com/section/theater\n",
      "https://www.nytimes.com/watching\n",
      "https://www.nytimes.com/video/arts\n",
      "https://www.nytimes.com/section/automobiles\n",
      "https://cooking.nytimes.com/\n",
      "https://www.nytimes.com/crosswords\n",
      "https://www.nytimes.com/section/education\n",
      "https://www.nytimes.com/section/food\n",
      "https://www.nytimes.com/section/health\n",
      "https://www.nytimes.com/section/jobs\n",
      "https://www.nytimes.com/section/magazine\n",
      "https://parenting.nytimes.com/\n",
      "https://www.nytimes.com/section/realestate\n",
      "https://www.nytimes.com/section/style\n",
      "https://www.nytimes.com/section/t-magazine\n",
      "https://www.nytimes.com/section/travel\n",
      "https://www.nytimes.com/section/fashion/weddings\n",
      "https://www.nytimes.com/section/reader-center\n",
      "https://thewirecutter.com\n",
      "http://nytconferences.com/\n",
      "https://www.nytimes.com/section/learning\n",
      "http://www.nytimes.com/marketing/tools-and-services\n",
      "https://www.nytimes.com/spotlight/arts-listings\n",
      "https://www.nytimes.com/section/multimedia\n",
      "https://www.nytimes.com/section/lens\n",
      "https://www.nytimes.com/video\n",
      "https://www.nytimes.com/newsletters\n",
      "https://store.nytimes.com/\n",
      "https://www.nytimes.com/times-journeys\n",
      "https://account.nytimes.com/\n",
      "https://www.nytimes.com\n",
      "https://www.nytimes.com/section/world\n",
      "https://www.nytimes.com/section/us\n",
      "https://www.nytimes.com/section/politics\n",
      "https://www.nytimes.com/news-event/2020-election\n",
      "https://www.nytimes.com/section/nyregion\n",
      "https://www.nytimes.com/section/business\n",
      "https://www.nytimes.com/section/technology\n",
      "https://www.nytimes.com/section/science\n",
      "https://www.nytimes.com/section/climate\n",
      "https://www.nytimes.com/section/sports\n",
      "https://www.nytimes.com/section/obituaries\n",
      "https://www.nytimes.com/section/upshot\n",
      "https://www.nytimes.com/es/\n",
      "https://cn.nytimes.com/\n",
      "https://www.nytimes.com/section/todayspaper\n",
      "https://www.nytimes.com/section/corrections\n",
      "https://www.nytimes.com/section/opinion\n",
      "https://www.nytimes.com/section/opinion/columnists\n",
      "https://www.nytimes.com/section/opinion/editorials\n",
      "https://www.nytimes.com/section/opinion/contributors\n",
      "https://www.nytimes.com/section/opinion/letters\n",
      "https://www.nytimes.com/section/opinion/sunday\n",
      "https://www.nytimes.com/video/opinion\n",
      "https://www.nytimes.com/section/arts\n",
      "https://www.nytimes.com/section/arts/design\n",
      "https://www.nytimes.com/section/books\n",
      "https://www.nytimes.com/section/arts/dance\n",
      "https://www.nytimes.com/section/movies\n",
      "https://www.nytimes.com/section/arts/music\n",
      "https://www.nytimes.com/spotlight/pop-culture\n",
      "https://www.nytimes.com/section/arts/television\n",
      "https://www.nytimes.com/section/theater\n",
      "https://www.nytimes.com/watching\n",
      "https://www.nytimes.com/video/arts\n",
      "https://www.nytimes.com/section/automobiles\n",
      "https://cooking.nytimes.com/\n",
      "https://www.nytimes.com/crosswords\n",
      "https://www.nytimes.com/section/education\n",
      "https://www.nytimes.com/section/food\n",
      "https://www.nytimes.com/section/health\n",
      "https://www.nytimes.com/section/jobs\n",
      "https://www.nytimes.com/section/magazine\n",
      "https://parenting.nytimes.com/\n",
      "https://www.nytimes.com/section/realestate\n",
      "https://www.nytimes.com/section/style\n",
      "https://www.nytimes.com/section/t-magazine\n",
      "https://www.nytimes.com/section/travel\n",
      "https://www.nytimes.com/section/fashion/weddings\n",
      "https://www.nytimes.com/section/reader-center\n",
      "https://thewirecutter.com\n",
      "http://nytconferences.com/\n",
      "https://www.nytimes.com/section/learning\n",
      "http://www.nytimes.com/marketing/tools-and-services\n",
      "https://www.nytimes.com/spotlight/arts-listings\n",
      "https://www.nytimes.com/section/multimedia\n",
      "https://www.nytimes.com/section/lens\n",
      "https://www.nytimes.com/video\n",
      "https://www.nytimes.com/newsletters\n",
      "https://store.nytimes.com/\n",
      "https://www.nytimes.com/times-journeys\n",
      "https://account.nytimes.com/\n",
      "https://www.nytimes.com/hdleftnav\n",
      "https://www.nytimes.com/digitalleftnav\n",
      "https://www.nytimes.com/subscription/crosswords\n",
      "https://www.nytimes.com/subscription/cooking.html\n",
      "https://www.nytimes.com/newsletters\n",
      "https://www.nytimes.com/corporateleftnav\n",
      "https://www.nytimes.com/educationleftnav\n",
      "http://www.nytimes.com/services/mobile/index.html\n",
      "http://eedition.nytimes.com/cgi-bin/signup.cgi?cc=37FYY\n",
      "https://www.nytimes.com/es/\n",
      "https://cn.nytimes.com/\n",
      "https://help.nytimes.com/hc/en-us/articles/115014792127-Copyright-notice\n",
      "https://help.nytimes.com/hc/en-us/articles/115015385887-Contact-Us\n",
      "https://www.nytco.com/careers/\n",
      "https://nytmediakit.com/\n",
      "http://www.tbrandstudio.com/\n",
      "https://help.nytimes.com/hc/en-us/articles/115014892108-Privacy-policy\n",
      "https://help.nytimes.com/hc/en-us/articles/115014892108-Privacy-policy\n",
      "https://help.nytimes.com/hc/en-us/articles/115014893428-Terms-of-service\n",
      "https://help.nytimes.com/hc/en-us/articles/115014893968-Terms-of-sale\n",
      "http://spiderbites.nytimes.com\n",
      "https://help.nytimes.com/hc/en-us\n",
      "https://www.nytimes.com/subscription?campaignId=37WXW\n"
     ]
    }
   ],
   "source": [
    "for link in soup.find_all('a'):\n",
    "    print(link.get('href'))"
   ]
  },
  {
   "cell_type": "code",
   "execution_count": 33,
   "metadata": {},
   "outputs": [],
   "source": [
    "#print(soup.prettify())"
   ]
  },
  {
   "cell_type": "code",
   "execution_count": 72,
   "metadata": {},
   "outputs": [
    {
     "name": "stdout",
     "output_type": "stream",
     "text": [
      "Success!\n"
     ]
    }
   ],
   "source": [
    "response = requests.get(\"https://api.wmata.com/Rail.svc/json/jLines\", headers = {'api_key': '13340554c6b84b67a447d2fc5a8f15c0'})\n",
    "\n",
    "if response:\n",
    "    print('Success!')\n",
    "else:\n",
    "    print('An error has occurred.')"
   ]
  },
  {
   "cell_type": "code",
   "execution_count": 73,
   "metadata": {},
   "outputs": [
    {
     "name": "stdout",
     "output_type": "stream",
     "text": [
      "b'{\"Lines\":[{\"LineCode\":\"BL\",\"DisplayName\":\"Blue\",\"StartStationCode\":\"J03\",\"EndStationCode\":\"G05\",\"InternalDestination1\":\"\",\"InternalDestination2\":\"\"},{\"LineCode\":\"GR\",\"DisplayName\":\"Green\",\"StartStationCode\":\"F11\",\"EndStationCode\":\"E10\",\"InternalDestination1\":\"\",\"InternalDestination2\":\"\"},{\"LineCode\":\"OR\",\"DisplayName\":\"Orange\",\"StartStationCode\":\"K08\",\"EndStationCode\":\"D13\",\"InternalDestination1\":\"\",\"InternalDestination2\":\"\"},{\"LineCode\":\"RD\",\"DisplayName\":\"Red\",\"StartStationCode\":\"A15\",\"EndStationCode\":\"B11\",\"InternalDestination1\":\"A11\",\"InternalDestination2\":\"B08\"},{\"LineCode\":\"SV\",\"DisplayName\":\"Silver\",\"StartStationCode\":\"N06\",\"EndStationCode\":\"G05\",\"InternalDestination1\":\"\",\"InternalDestination2\":\"\"},{\"LineCode\":\"YL\",\"DisplayName\":\"Yellow\",\"StartStationCode\":\"C15\",\"EndStationCode\":\"E06\",\"InternalDestination1\":\"E01\",\"InternalDestination2\":\"\"}]}'\n"
     ]
    }
   ],
   "source": [
    "print(response.content)"
   ]
  },
  {
   "cell_type": "code",
   "execution_count": 74,
   "metadata": {},
   "outputs": [
    {
     "name": "stdout",
     "output_type": "stream",
     "text": [
      "<class 'str'>\n"
     ]
    }
   ],
   "source": [
    "wmata = response.text\n",
    "print(type(wmata))"
   ]
  },
  {
   "cell_type": "code",
   "execution_count": 66,
   "metadata": {},
   "outputs": [
    {
     "name": "stdout",
     "output_type": "stream",
     "text": [
      "{'Lines': [{'LineCode': 'BL', 'DisplayName': 'Blue', 'StartStationCode': 'J03', 'EndStationCode': 'G05', 'InternalDestination1': '', 'InternalDestination2': ''}, {'LineCode': 'GR', 'DisplayName': 'Green', 'StartStationCode': 'F11', 'EndStationCode': 'E10', 'InternalDestination1': '', 'InternalDestination2': ''}, {'LineCode': 'OR', 'DisplayName': 'Orange', 'StartStationCode': 'K08', 'EndStationCode': 'D13', 'InternalDestination1': '', 'InternalDestination2': ''}, {'LineCode': 'RD', 'DisplayName': 'Red', 'StartStationCode': 'A15', 'EndStationCode': 'B11', 'InternalDestination1': 'A11', 'InternalDestination2': 'B08'}, {'LineCode': 'SV', 'DisplayName': 'Silver', 'StartStationCode': 'N06', 'EndStationCode': 'G05', 'InternalDestination1': '', 'InternalDestination2': ''}, {'LineCode': 'YL', 'DisplayName': 'Yellow', 'StartStationCode': 'C15', 'EndStationCode': 'E06', 'InternalDestination1': 'E01', 'InternalDestination2': ''}]}\n"
     ]
    }
   ],
   "source": [
    "print(response.json())"
   ]
  },
  {
   "cell_type": "code",
   "execution_count": 1,
   "metadata": {},
   "outputs": [
    {
     "name": "stdout",
     "output_type": "stream",
     "text": [
      "b'{\"Lines\":[{\"LineCode\":\"BL\",\"DisplayName\":\"Blue\",\"StartStationCode\":\"J03\",\"EndStationCode\":\"G05\",\"InternalDestination1\":\"\",\"InternalDestination2\":\"\"},{\"LineCode\":\"GR\",\"DisplayName\":\"Green\",\"StartStationCode\":\"F11\",\"EndStationCode\":\"E10\",\"InternalDestination1\":\"\",\"InternalDestination2\":\"\"},{\"LineCode\":\"OR\",\"DisplayName\":\"Orange\",\"StartStationCode\":\"K08\",\"EndStationCode\":\"D13\",\"InternalDestination1\":\"\",\"InternalDestination2\":\"\"},{\"LineCode\":\"RD\",\"DisplayName\":\"Red\",\"StartStationCode\":\"A15\",\"EndStationCode\":\"B11\",\"InternalDestination1\":\"A11\",\"InternalDestination2\":\"B08\"},{\"LineCode\":\"SV\",\"DisplayName\":\"Silver\",\"StartStationCode\":\"N06\",\"EndStationCode\":\"G05\",\"InternalDestination1\":\"\",\"InternalDestination2\":\"\"},{\"LineCode\":\"YL\",\"DisplayName\":\"Yellow\",\"StartStationCode\":\"C15\",\"EndStationCode\":\"E06\",\"InternalDestination1\":\"E01\",\"InternalDestination2\":\"\"}]}'\n"
     ]
    }
   ],
   "source": [
    "import http.client, urllib.request, urllib.parse, urllib.error, base64\n",
    "\n",
    "headers = {\n",
    "    # Request headers\n",
    "    'api_key': '13340554c6b84b67a447d2fc5a8f15c0',\n",
    "}\n",
    "\n",
    "params = urllib.parse.urlencode({\n",
    "})\n",
    "\n",
    "try:\n",
    "    conn = http.client.HTTPSConnection('api.wmata.com')\n",
    "    conn.request(\"GET\", \"/Rail.svc/json/jLines?%s\" % params, \"{body}\", headers)\n",
    "    response = conn.getresponse()\n",
    "    data = response.read()\n",
    "    print(data)\n",
    "    conn.close()\n",
    "except Exception as e:\n",
    "    print(\"[Errno {0}] {1}\".format(e.errno, e.strerror))\n"
   ]
  },
  {
   "cell_type": "code",
   "execution_count": 2,
   "metadata": {},
   "outputs": [
    {
     "name": "stdout",
     "output_type": "stream",
     "text": [
      "<class 'bytes'>\n"
     ]
    }
   ],
   "source": [
    "print(type(data))"
   ]
  },
  {
   "cell_type": "code",
   "execution_count": 3,
   "metadata": {},
   "outputs": [
    {
     "name": "stdout",
     "output_type": "stream",
     "text": [
      "123\n"
     ]
    }
   ],
   "source": [
    "print(data[0])"
   ]
  },
  {
   "cell_type": "code",
   "execution_count": 10,
   "metadata": {},
   "outputs": [
    {
     "name": "stdout",
     "output_type": "stream",
     "text": [
      "Success!\n"
     ]
    }
   ],
   "source": [
    "#response = requests.get(\"https://maps2.dcgis.dc.gov/dcgis/rest/services/DCGIS_DATA/Education_WebMercator/MapServer/5/query?where=1%3D1&outFields=*&outSR=4326&f=json\")\n",
    "response = requests.get(\"https://opendata.arcgis.com/datasets/85fce54dea6946dea827c02a6bda88bb_23.csv\")\n",
    "\n",
    "\n",
    "if response:\n",
    "    print('Success!')\n",
    "else:\n",
    "    print('An error has occurred.')"
   ]
  },
  {
   "cell_type": "code",
   "execution_count": 11,
   "metadata": {},
   "outputs": [
    {
     "ename": "JSONDecodeError",
     "evalue": "Unexpected UTF-8 BOM (decode using utf-8-sig): line 1 column 1 (char 0)",
     "output_type": "error",
     "traceback": [
      "\u001b[0;31m---------------------------------------------------------------------------\u001b[0m",
      "\u001b[0;31mJSONDecodeError\u001b[0m                           Traceback (most recent call last)",
      "\u001b[0;32m<ipython-input-11-0c5e996f4337>\u001b[0m in \u001b[0;36m<module>\u001b[0;34m\u001b[0m\n\u001b[0;32m----> 1\u001b[0;31m \u001b[0mschool\u001b[0m \u001b[0;34m=\u001b[0m \u001b[0mresponse\u001b[0m\u001b[0;34m.\u001b[0m\u001b[0mjson\u001b[0m\u001b[0;34m(\u001b[0m\u001b[0;34m)\u001b[0m\u001b[0;34m\u001b[0m\u001b[0;34m\u001b[0m\u001b[0m\n\u001b[0m\u001b[1;32m      2\u001b[0m \u001b[0;34m\u001b[0m\u001b[0m\n\u001b[1;32m      3\u001b[0m \u001b[0mprint\u001b[0m\u001b[0;34m(\u001b[0m\u001b[0mtype\u001b[0m\u001b[0;34m(\u001b[0m\u001b[0mschool\u001b[0m\u001b[0;34m)\u001b[0m\u001b[0;34m)\u001b[0m\u001b[0;34m\u001b[0m\u001b[0;34m\u001b[0m\u001b[0m\n",
      "\u001b[0;32m~/anaconda3/envs/flights/lib/python3.7/site-packages/requests/models.py\u001b[0m in \u001b[0;36mjson\u001b[0;34m(self, **kwargs)\u001b[0m\n\u001b[1;32m    895\u001b[0m                     \u001b[0;31m# used.\u001b[0m\u001b[0;34m\u001b[0m\u001b[0;34m\u001b[0m\u001b[0;34m\u001b[0m\u001b[0m\n\u001b[1;32m    896\u001b[0m                     \u001b[0;32mpass\u001b[0m\u001b[0;34m\u001b[0m\u001b[0;34m\u001b[0m\u001b[0m\n\u001b[0;32m--> 897\u001b[0;31m         \u001b[0;32mreturn\u001b[0m \u001b[0mcomplexjson\u001b[0m\u001b[0;34m.\u001b[0m\u001b[0mloads\u001b[0m\u001b[0;34m(\u001b[0m\u001b[0mself\u001b[0m\u001b[0;34m.\u001b[0m\u001b[0mtext\u001b[0m\u001b[0;34m,\u001b[0m \u001b[0;34m**\u001b[0m\u001b[0mkwargs\u001b[0m\u001b[0;34m)\u001b[0m\u001b[0;34m\u001b[0m\u001b[0;34m\u001b[0m\u001b[0m\n\u001b[0m\u001b[1;32m    898\u001b[0m \u001b[0;34m\u001b[0m\u001b[0m\n\u001b[1;32m    899\u001b[0m     \u001b[0;34m@\u001b[0m\u001b[0mproperty\u001b[0m\u001b[0;34m\u001b[0m\u001b[0;34m\u001b[0m\u001b[0m\n",
      "\u001b[0;32m~/anaconda3/envs/flights/lib/python3.7/json/__init__.py\u001b[0m in \u001b[0;36mloads\u001b[0;34m(s, encoding, cls, object_hook, parse_float, parse_int, parse_constant, object_pairs_hook, **kw)\u001b[0m\n\u001b[1;32m    336\u001b[0m         \u001b[0;32mif\u001b[0m \u001b[0ms\u001b[0m\u001b[0;34m.\u001b[0m\u001b[0mstartswith\u001b[0m\u001b[0;34m(\u001b[0m\u001b[0;34m'\\ufeff'\u001b[0m\u001b[0;34m)\u001b[0m\u001b[0;34m:\u001b[0m\u001b[0;34m\u001b[0m\u001b[0;34m\u001b[0m\u001b[0m\n\u001b[1;32m    337\u001b[0m             raise JSONDecodeError(\"Unexpected UTF-8 BOM (decode using utf-8-sig)\",\n\u001b[0;32m--> 338\u001b[0;31m                                   s, 0)\n\u001b[0m\u001b[1;32m    339\u001b[0m     \u001b[0;32melse\u001b[0m\u001b[0;34m:\u001b[0m\u001b[0;34m\u001b[0m\u001b[0;34m\u001b[0m\u001b[0m\n\u001b[1;32m    340\u001b[0m         \u001b[0;32mif\u001b[0m \u001b[0;32mnot\u001b[0m \u001b[0misinstance\u001b[0m\u001b[0;34m(\u001b[0m\u001b[0ms\u001b[0m\u001b[0;34m,\u001b[0m \u001b[0;34m(\u001b[0m\u001b[0mbytes\u001b[0m\u001b[0;34m,\u001b[0m \u001b[0mbytearray\u001b[0m\u001b[0;34m)\u001b[0m\u001b[0;34m)\u001b[0m\u001b[0;34m:\u001b[0m\u001b[0;34m\u001b[0m\u001b[0;34m\u001b[0m\u001b[0m\n",
      "\u001b[0;31mJSONDecodeError\u001b[0m: Unexpected UTF-8 BOM (decode using utf-8-sig): line 1 column 1 (char 0)"
     ]
    }
   ],
   "source": [
    "school = response.json()\n",
    "\n",
    "print(type(school))"
   ]
  },
  {
   "cell_type": "code",
   "execution_count": 8,
   "metadata": {},
   "outputs": [
    {
     "name": "stdout",
     "output_type": "stream",
     "text": [
      "displayFieldName\n",
      "fieldAliases\n",
      "geometryType\n",
      "spatialReference\n",
      "fields\n",
      "features\n"
     ]
    }
   ],
   "source": [
    "for x in school:\n",
    "    print(x)"
   ]
  },
  {
   "cell_type": "code",
   "execution_count": 9,
   "metadata": {},
   "outputs": [
    {
     "data": {
      "text/html": [
       "<div>\n",
       "<style scoped>\n",
       "    .dataframe tbody tr th:only-of-type {\n",
       "        vertical-align: middle;\n",
       "    }\n",
       "\n",
       "    .dataframe tbody tr th {\n",
       "        vertical-align: top;\n",
       "    }\n",
       "\n",
       "    .dataframe thead th {\n",
       "        text-align: right;\n",
       "    }\n",
       "</style>\n",
       "<table border=\"1\" class=\"dataframe\">\n",
       "  <thead>\n",
       "    <tr style=\"text-align: right;\">\n",
       "      <th></th>\n",
       "      <th>displayFieldName</th>\n",
       "      <th>fieldAliases</th>\n",
       "      <th>geometryType</th>\n",
       "      <th>spatialReference</th>\n",
       "      <th>fields</th>\n",
       "      <th>features</th>\n",
       "    </tr>\n",
       "  </thead>\n",
       "  <tbody>\n",
       "    <tr>\n",
       "      <th>0</th>\n",
       "      <td>NAME</td>\n",
       "      <td>{'OBJECTID': 'OBJECTID', 'NAME': 'NAME', 'ADDR...</td>\n",
       "      <td>esriGeometryPoint</td>\n",
       "      <td>{'wkid': 4326, 'latestWkid': 4326}</td>\n",
       "      <td>[{'name': 'OBJECTID', 'type': 'esriFieldTypeOI...</td>\n",
       "      <td>[{'attributes': {'OBJECTID': 54, 'NAME': 'Jann...</td>\n",
       "    </tr>\n",
       "  </tbody>\n",
       "</table>\n",
       "</div>"
      ],
      "text/plain": [
       "  displayFieldName                                       fieldAliases  \\\n",
       "0             NAME  {'OBJECTID': 'OBJECTID', 'NAME': 'NAME', 'ADDR...   \n",
       "\n",
       "        geometryType                    spatialReference  \\\n",
       "0  esriGeometryPoint  {'wkid': 4326, 'latestWkid': 4326}   \n",
       "\n",
       "                                              fields  \\\n",
       "0  [{'name': 'OBJECTID', 'type': 'esriFieldTypeOI...   \n",
       "\n",
       "                                            features  \n",
       "0  [{'attributes': {'OBJECTID': 54, 'NAME': 'Jann...  "
      ]
     },
     "execution_count": 9,
     "metadata": {},
     "output_type": "execute_result"
    }
   ],
   "source": [
    "df = pd.DataFrame.from_dict(school, orient='index')\n",
    "df.transpose()"
   ]
  },
  {
   "cell_type": "code",
   "execution_count": null,
   "metadata": {},
   "outputs": [],
   "source": []
  }
 ],
 "metadata": {
  "kernelspec": {
   "display_name": "Python 3",
   "language": "python",
   "name": "python3"
  },
  "language_info": {
   "codemirror_mode": {
    "name": "ipython",
    "version": 3
   },
   "file_extension": ".py",
   "mimetype": "text/x-python",
   "name": "python",
   "nbconvert_exporter": "python",
   "pygments_lexer": "ipython3",
   "version": "3.7.3"
  }
 },
 "nbformat": 4,
 "nbformat_minor": 4
}
